{
 "cells": [
  {
   "cell_type": "markdown",
   "metadata": {
    "id": "iqfzuBWztRAS"
   },
   "source": [
    "# MaskRcnn for article localization\n"
   ]
  },
  {
   "cell_type": "markdown",
   "metadata": {
    "id": "SvcQlIjUiYiu"
   },
   "source": [
    "I took Mark Rcnn is because, it is a kind of widely used in Instance segmentation\n",
    "\n",
    "Mask R-CNN is simple to train and adds only a small overhead to Faster R-CNN, running at 5 fps.\n",
    "\n",
    "Mask rcnn works with tensorflow 1.x"
   ]
  },
  {
   "cell_type": "code",
   "execution_count": null,
   "metadata": {
    "id": "jv1R3RwnyAmV"
   },
   "outputs": [],
   "source": [
    "!pip install tensorflow==1.15.0"
   ]
  },
  {
   "cell_type": "code",
   "execution_count": null,
   "metadata": {
    "id": "WlH8VEB6P25B"
   },
   "outputs": [],
   "source": [
    "!pip install keras==2.1.5"
   ]
  },
  {
   "cell_type": "code",
   "execution_count": 1,
   "metadata": {
    "colab": {
     "base_uri": "https://localhost:8080/"
    },
    "executionInfo": {
     "elapsed": 5329,
     "status": "ok",
     "timestamp": 1619078066543,
     "user": {
      "displayName": "Satishkumar Moparthi",
      "photoUrl": "https://lh3.googleusercontent.com/a-/AOh14GjUSOPEhegxKhmSJgOTfyqrLlGWk7dHBnuvO3S-gA=s64",
      "userId": "03515051603858730688"
     },
     "user_tz": -330
    },
    "id": "Y_I9_1flwzMl",
    "outputId": "90505d50-8a2e-49b6-c1dd-ecc9cd757b6c"
   },
   "outputs": [
    {
     "name": "stderr",
     "output_type": "stream",
     "text": [
      "Using TensorFlow backend.\n"
     ]
    }
   ],
   "source": [
    "import os\n",
    "import gc\n",
    "import sys\n",
    "import json\n",
    "import glob\n",
    "import random\n",
    "from pathlib import Path\n",
    "import cv2\n",
    "import numpy as np\n",
    "import pandas as pd\n",
    "import matplotlib.pyplot as plt\n",
    "import itertools\n",
    "from tqdm import tqdm\n",
    "from imgaug import augmenters as iaa\n",
    "from sklearn.model_selection import StratifiedKFold, KFold"
   ]
  },
  {
   "cell_type": "code",
   "execution_count": 2,
   "metadata": {
    "colab": {
     "base_uri": "https://localhost:8080/"
    },
    "executionInfo": {
     "elapsed": 2942,
     "status": "ok",
     "timestamp": 1619078070275,
     "user": {
      "displayName": "Satishkumar Moparthi",
      "photoUrl": "https://lh3.googleusercontent.com/a-/AOh14GjUSOPEhegxKhmSJgOTfyqrLlGWk7dHBnuvO3S-gA=s64",
      "userId": "03515051603858730688"
     },
     "user_tz": -330
    },
    "id": "FxzN9_5PzXet",
    "outputId": "4e9c9937-3850-49e8-ddfc-a63e0d7d25b1"
   },
   "outputs": [
    {
     "name": "stdout",
     "output_type": "stream",
     "text": [
      "1.15.0\n",
      "2.1.5\n"
     ]
    }
   ],
   "source": [
    "print(tf.__version__)\n",
    "print(keras.__version__)"
   ]
  },
  {
   "cell_type": "markdown",
   "metadata": {
    "id": "C3PPvVOMk3sm"
   },
   "source": [
    "## Data\n",
    "\n",
    "I took data from \"imaterialist-fashion-2019-FGVC6\" kaggle competetion."
   ]
  },
  {
   "cell_type": "code",
   "execution_count": 6,
   "metadata": {
    "colab": {
     "base_uri": "https://localhost:8080/"
    },
    "executionInfo": {
     "elapsed": 453179,
     "status": "ok",
     "timestamp": 1619078737006,
     "user": {
      "displayName": "Satishkumar Moparthi",
      "photoUrl": "https://lh3.googleusercontent.com/a-/AOh14GjUSOPEhegxKhmSJgOTfyqrLlGWk7dHBnuvO3S-gA=s64",
      "userId": "03515051603858730688"
     },
     "user_tz": -330
    },
    "id": "8JXnLEwmk4n6",
    "outputId": "3f865ebc-b005-472d-808d-714d8855acdd"
   },
   "outputs": [
    {
     "name": "stdout",
     "output_type": "stream",
     "text": [
      "--2021-04-22 07:58:05--  https://storage.googleapis.com/kaggle-competitions-data/kaggle-v2/13032/862545/compressed/train.zip?GoogleAccessId=web-data@kaggle-161607.iam.gserviceaccount.com&Expires=1619337466&Signature=nvdLwfDZFSNAFG21H0I7u4yFyejVgxt931FohrPfCHu%2FNeBum1CoAFhBFIJDBReBEiVOYiRL17SvsYvMe8%2BybSkfdPM0YF3gbN9CRuVrD3eMiTr7swENvrUGZ3GuullkH5QxjlK%2FWiHGpwMaPJkOdU6MaO8BjXyHMRuZrj5u1B7iZbDz04jE97Z7RvonthVa15jCG1cWXnmSLrewc1pkc001S1BJ2hruBesVO7TLiRGQDrWthQxgW7fpmcADMVhxEmq94aSd686XM7URgD%2BwNXh8xyax4qcJp0M44hJmgbBI3Q8lYJPJvvfuxxiqLk5FfFiRPvLmHGKojRGpsTntJw%3D%3D&response-content-disposition=attachment%3B+filename%3Dtrain.zip\n",
      "Resolving storage.googleapis.com (storage.googleapis.com)... 108.177.97.128, 108.177.125.128, 74.125.23.128, ...\n",
      "Connecting to storage.googleapis.com (storage.googleapis.com)|108.177.97.128|:443... connected.\n",
      "HTTP request sent, awaiting response... 200 OK\n",
      "Length: 18956138092 (18G) [application/zip]\n",
      "Saving to: ‘train.zip’\n",
      "\n",
      "train.zip           100%[===================>]  17.65G  12.6MB/s    in 7m 32s  \n",
      "\n",
      "2021-04-22 08:05:38 (40.0 MB/s) - ‘train.zip’ saved [18956138092/18956138092]\n",
      "\n"
     ]
    }
   ],
   "source": [
    "!wget --header=\"Host: storage.googleapis.com\" --header=\"User-Agent: Mozilla/5.0 (Windows NT 10.0; Win64; x64) AppleWebKit/537.36 (KHTML, like Gecko) Chrome/89.0.4389.128 Safari/537.36\" --header=\"Accept: text/html,application/xhtml+xml,application/xml;q=0.9,image/avif,image/webp,image/apng,*/*;q=0.8,application/signed-exchange;v=b3;q=0.9\" --header=\"Accept-Language: en-IN,en-GB;q=0.9,en-US;q=0.8,en;q=0.7\" --header=\"Referer: https://www.kaggle.com/\" \"https://storage.googleapis.com/kaggle-competitions-data/kaggle-v2/13032/862545/compressed/train.zip?GoogleAccessId=web-data@kaggle-161607.iam.gserviceaccount.com&Expires=1619337466&Signature=nvdLwfDZFSNAFG21H0I7u4yFyejVgxt931FohrPfCHu%2FNeBum1CoAFhBFIJDBReBEiVOYiRL17SvsYvMe8%2BybSkfdPM0YF3gbN9CRuVrD3eMiTr7swENvrUGZ3GuullkH5QxjlK%2FWiHGpwMaPJkOdU6MaO8BjXyHMRuZrj5u1B7iZbDz04jE97Z7RvonthVa15jCG1cWXnmSLrewc1pkc001S1BJ2hruBesVO7TLiRGQDrWthQxgW7fpmcADMVhxEmq94aSd686XM7URgD%2BwNXh8xyax4qcJp0M44hJmgbBI3Q8lYJPJvvfuxxiqLk5FfFiRPvLmHGKojRGpsTntJw%3D%3D&response-content-disposition=attachment%3B+filename%3Dtrain.zip\" -c -O 'train.zip'"
   ]
  },
  {
   "cell_type": "code",
   "execution_count": 7,
   "metadata": {
    "executionInfo": {
     "elapsed": 2388,
     "status": "ok",
     "timestamp": 1619078982786,
     "user": {
      "displayName": "Satishkumar Moparthi",
      "photoUrl": "https://lh3.googleusercontent.com/a-/AOh14GjUSOPEhegxKhmSJgOTfyqrLlGWk7dHBnuvO3S-gA=s64",
      "userId": "03515051603858730688"
     },
     "user_tz": -330
    },
    "id": "qwVnBpDBlBDS"
   },
   "outputs": [],
   "source": [
    "!unzip train.zip\n",
    "\n",
    "!rm -rf train.zip"
   ]
  },
  {
   "cell_type": "code",
   "execution_count": 5,
   "metadata": {
    "colab": {
     "base_uri": "https://localhost:8080/"
    },
    "executionInfo": {
     "elapsed": 12409,
     "status": "ok",
     "timestamp": 1619078243857,
     "user": {
      "displayName": "Satishkumar Moparthi",
      "photoUrl": "https://lh3.googleusercontent.com/a-/AOh14GjUSOPEhegxKhmSJgOTfyqrLlGWk7dHBnuvO3S-gA=s64",
      "userId": "03515051603858730688"
     },
     "user_tz": -330
    },
    "id": "RDC34HbUlSnQ",
    "outputId": "e5aa74dd-210e-492c-d3bb-745d46ece321"
   },
   "outputs": [
    {
     "name": "stdout",
     "output_type": "stream",
     "text": [
      "--2021-04-22 07:57:13--  https://storage.googleapis.com/kaggle-competitions-data/kaggle-v2/13032/862545/compressed/train.csv.zip?GoogleAccessId=web-data@kaggle-161607.iam.gserviceaccount.com&Expires=1619337418&Signature=VXcCR4dr3rsROFQkXQxXxvs1O162NSjKsWiNxGZ8%2FlJNhU6bmFfbN2ZAeyBc0RWbT3pMJSE9Ef6e07kccZmoFVuCPwBcLb%2F%2BKZxSgCaVt0ifPS7tMHjb6ip89gUNcgb6CGThIAKiZnFOoKE8T%2FN0qkh5dw1ZBgtKZIzs2xTziL0kM%2F1FXDmxQ%2BNYznaX0P4Ap428ZLTE99BQ5rcy%2FiOuazho5me3QjWSdIXeq6gtutZjKTtveoEd4cR%2BOEH5LHiI%2BBOWzu9XPK4ffQI5rMN%2B4LZGCOgsz9b2nvFiBiBwLS8wusOcn7TW1J0BPU3WyUCsbacCWXltth4laPgnX7fEFg%3D%3D&response-content-disposition=attachment%3B+filename%3Dtrain.csv.zip\n",
      "Resolving storage.googleapis.com (storage.googleapis.com)... 108.177.125.128, 74.125.23.128, 74.125.204.128, ...\n",
      "Connecting to storage.googleapis.com (storage.googleapis.com)|108.177.125.128|:443... connected.\n",
      "HTTP request sent, awaiting response... 200 OK\n",
      "Length: 571573081 (545M) [application/zip]\n",
      "Saving to: ‘train.csv.zip’\n",
      "\n",
      "train.csv.zip       100%[===================>] 545.09M  53.3MB/s    in 11s     \n",
      "\n",
      "2021-04-22 07:57:24 (50.3 MB/s) - ‘train.csv.zip’ saved [571573081/571573081]\n",
      "\n"
     ]
    }
   ],
   "source": [
    "!wget --header=\"Host: storage.googleapis.com\" --header=\"User-Agent: Mozilla/5.0 (Windows NT 10.0; Win64; x64) AppleWebKit/537.36 (KHTML, like Gecko) Chrome/89.0.4389.128 Safari/537.36\" --header=\"Accept: text/html,application/xhtml+xml,application/xml;q=0.9,image/avif,image/webp,image/apng,*/*;q=0.8,application/signed-exchange;v=b3;q=0.9\" --header=\"Accept-Language: en-IN,en-GB;q=0.9,en-US;q=0.8,en;q=0.7\" --header=\"Referer: https://www.kaggle.com/\" \"https://storage.googleapis.com/kaggle-competitions-data/kaggle-v2/13032/862545/compressed/train.csv.zip?GoogleAccessId=web-data@kaggle-161607.iam.gserviceaccount.com&Expires=1619337418&Signature=VXcCR4dr3rsROFQkXQxXxvs1O162NSjKsWiNxGZ8%2FlJNhU6bmFfbN2ZAeyBc0RWbT3pMJSE9Ef6e07kccZmoFVuCPwBcLb%2F%2BKZxSgCaVt0ifPS7tMHjb6ip89gUNcgb6CGThIAKiZnFOoKE8T%2FN0qkh5dw1ZBgtKZIzs2xTziL0kM%2F1FXDmxQ%2BNYznaX0P4Ap428ZLTE99BQ5rcy%2FiOuazho5me3QjWSdIXeq6gtutZjKTtveoEd4cR%2BOEH5LHiI%2BBOWzu9XPK4ffQI5rMN%2B4LZGCOgsz9b2nvFiBiBwLS8wusOcn7TW1J0BPU3WyUCsbacCWXltth4laPgnX7fEFg%3D%3D&response-content-disposition=attachment%3B+filename%3Dtrain.csv.zip\" -c -O 'train.csv.zip'"
   ]
  },
  {
   "cell_type": "code",
   "execution_count": 9,
   "metadata": {
    "colab": {
     "base_uri": "https://localhost:8080/"
    },
    "executionInfo": {
     "elapsed": 18503,
     "status": "ok",
     "timestamp": 1619079121997,
     "user": {
      "displayName": "Satishkumar Moparthi",
      "photoUrl": "https://lh3.googleusercontent.com/a-/AOh14GjUSOPEhegxKhmSJgOTfyqrLlGWk7dHBnuvO3S-gA=s64",
      "userId": "03515051603858730688"
     },
     "user_tz": -330
    },
    "id": "yczESqXeokBu",
    "outputId": "e7f4bf9b-8166-4107-c1b4-850d1d02a172"
   },
   "outputs": [
    {
     "name": "stdout",
     "output_type": "stream",
     "text": [
      "Archive:  train.csv.zip\n",
      "  inflating: train.csv               \n"
     ]
    }
   ],
   "source": [
    "!unzip train.csv.zip\n",
    "\n",
    "!rm -rf train.csv.zip"
   ]
  },
  {
   "cell_type": "markdown",
   "metadata": {
    "id": "j2RDX34uuFKT"
   },
   "source": [
    "### Train_test_split"
   ]
  },
  {
   "cell_type": "code",
   "execution_count": 8,
   "metadata": {
    "colab": {
     "base_uri": "https://localhost:8080/"
    },
    "executionInfo": {
     "elapsed": 1478,
     "status": "ok",
     "timestamp": 1619079024541,
     "user": {
      "displayName": "Satishkumar Moparthi",
      "photoUrl": "https://lh3.googleusercontent.com/a-/AOh14GjUSOPEhegxKhmSJgOTfyqrLlGWk7dHBnuvO3S-gA=s64",
      "userId": "03515051603858730688"
     },
     "user_tz": -330
    },
    "id": "0FzCwgkSuDoB",
    "outputId": "401f497e-047c-4411-876e-e179c19be0e7"
   },
   "outputs": [
    {
     "name": "stdout",
     "output_type": "stream",
     "text": [
      "46 ['shirt, blouse', 'top, t-shirt, sweatshirt', 'sweater', 'cardigan', 'jacket']\n"
     ]
    }
   ],
   "source": [
    "with open('/content/label_descriptions.json') as f:\n",
    "    label_descriptions = json.load(f)\n",
    "\n",
    "label_names = [x['name'] for x in label_descriptions['categories']]\n",
    "print(len(label_names),label_names[:5])"
   ]
  },
  {
   "cell_type": "code",
   "execution_count": 14,
   "metadata": {
    "colab": {
     "base_uri": "https://localhost:8080/",
     "height": 135
    },
    "executionInfo": {
     "elapsed": 16827,
     "status": "ok",
     "timestamp": 1619081446367,
     "user": {
      "displayName": "Satishkumar Moparthi",
      "photoUrl": "https://lh3.googleusercontent.com/a-/AOh14GjUSOPEhegxKhmSJgOTfyqrLlGWk7dHBnuvO3S-gA=s64",
      "userId": "03515051603858730688"
     },
     "user_tz": -330
    },
    "id": "fB-G3b9XujpF",
    "outputId": "08f1621f-411e-4e90-9b8e-9b341d8f9b6d"
   },
   "outputs": [
    {
     "data": {
      "text/html": [
       "<div>\n",
       "<style scoped>\n",
       "    .dataframe tbody tr th:only-of-type {\n",
       "        vertical-align: middle;\n",
       "    }\n",
       "\n",
       "    .dataframe tbody tr th {\n",
       "        vertical-align: top;\n",
       "    }\n",
       "\n",
       "    .dataframe thead th {\n",
       "        text-align: right;\n",
       "    }\n",
       "</style>\n",
       "<table border=\"1\" class=\"dataframe\">\n",
       "  <thead>\n",
       "    <tr style=\"text-align: right;\">\n",
       "      <th></th>\n",
       "      <th>ImageId</th>\n",
       "      <th>EncodedPixels</th>\n",
       "      <th>Height</th>\n",
       "      <th>Width</th>\n",
       "      <th>ClassId</th>\n",
       "      <th>Category</th>\n",
       "    </tr>\n",
       "  </thead>\n",
       "  <tbody>\n",
       "    <tr>\n",
       "      <th>0</th>\n",
       "      <td>00000663ed1ff0c4e0132b9b9ac53f6e.jpg</td>\n",
       "      <td>6068157 7 6073371 20 6078584 34 6083797 48 608...</td>\n",
       "      <td>5214</td>\n",
       "      <td>3676</td>\n",
       "      <td>6</td>\n",
       "      <td>6</td>\n",
       "    </tr>\n",
       "    <tr>\n",
       "      <th>1</th>\n",
       "      <td>00000663ed1ff0c4e0132b9b9ac53f6e.jpg</td>\n",
       "      <td>6323163 11 6328356 32 6333549 53 6338742 75 63...</td>\n",
       "      <td>5214</td>\n",
       "      <td>3676</td>\n",
       "      <td>0</td>\n",
       "      <td>0</td>\n",
       "    </tr>\n",
       "    <tr>\n",
       "      <th>2</th>\n",
       "      <td>00000663ed1ff0c4e0132b9b9ac53f6e.jpg</td>\n",
       "      <td>8521389 10 8526585 30 8531789 42 8537002 46 85...</td>\n",
       "      <td>5214</td>\n",
       "      <td>3676</td>\n",
       "      <td>28</td>\n",
       "      <td>28</td>\n",
       "    </tr>\n",
       "  </tbody>\n",
       "</table>\n",
       "</div>"
      ],
      "text/plain": [
       "                                ImageId  ... Category\n",
       "0  00000663ed1ff0c4e0132b9b9ac53f6e.jpg  ...        6\n",
       "1  00000663ed1ff0c4e0132b9b9ac53f6e.jpg  ...        0\n",
       "2  00000663ed1ff0c4e0132b9b9ac53f6e.jpg  ...       28\n",
       "\n",
       "[3 rows x 6 columns]"
      ]
     },
     "execution_count": 14,
     "metadata": {
      "tags": []
     },
     "output_type": "execute_result"
    }
   ],
   "source": [
    "data = pd.read_csv('/content/train.csv')\n",
    "data['Category'] = data['ClassId'].str.split('_').str[0]\n",
    "data.head(3)"
   ]
  },
  {
   "cell_type": "code",
   "execution_count": 11,
   "metadata": {
    "colab": {
     "base_uri": "https://localhost:8080/"
    },
    "executionInfo": {
     "elapsed": 25961,
     "status": "ok",
     "timestamp": 1619079653523,
     "user": {
      "displayName": "Satishkumar Moparthi",
      "photoUrl": "https://lh3.googleusercontent.com/a-/AOh14GjUSOPEhegxKhmSJgOTfyqrLlGWk7dHBnuvO3S-gA=s64",
      "userId": "03515051603858730688"
     },
     "user_tz": -330
    },
    "id": "ERe3DD3U1r3p",
    "outputId": "deb9e1d6-2fe8-4552-d941-d4841729188f"
   },
   "outputs": [
    {
     "name": "stdout",
     "output_type": "stream",
     "text": [
      "Cloning into 'Mask_RCNN'...\n",
      "warning: redirecting to https://github.com/matterport/Mask_RCNN.git/\n",
      "remote: Enumerating objects: 956, done.\u001b[K\n",
      "remote: Total 956 (delta 0), reused 0 (delta 0), pack-reused 956\u001b[K\n",
      "Receiving objects: 100% (956/956), 125.23 MiB | 23.25 MiB/s, done.\n",
      "Resolving deltas: 100% (562/562), done.\n",
      "-rw-r--r-- 1 root root 246M Nov 26  2017 mask_rcnn_coco.h5\n"
     ]
    }
   ],
   "source": [
    "# total categories is 46\n",
    "categories = 46\n",
    "# the image size is set to 512, which is the same as the size of submission masks\n",
    "img_size = 512\n",
    "\n",
    "# Cloning the mask_rcnn model from git\n",
    "!git clone https://www.github.com/matterport/Mask_RCNN.git\n",
    "\n",
    "# As we have to use the few functions with in mrcnn direction. appending path to Mask_RCNN\n",
    "os.chdir('Mask_RCNN')\n",
    "sys.path.append('Mask_RCNN')\n",
    "\n",
    "# importing required .py files from mrcnn directory \n",
    "from mrcnn.config import Config\n",
    "from mrcnn import utils\n",
    "import mrcnn.model as modellib\n",
    "from mrcnn import visualize\n",
    "from mrcnn.model import log\n",
    "\n",
    "# Cloning coco weights to train the images.\n",
    "!wget --quiet https://github.com/matterport/Mask_RCNN/releases/download/v2.0/mask_rcnn_coco.h5\n",
    "!ls -lh mask_rcnn_coco.h5\n",
    "\n",
    "COCO_WEIGHTS_PATH = 'mask_rcnn_coco.h5'"
   ]
  },
  {
   "cell_type": "markdown",
   "metadata": {
    "id": "HW1ywHgvs_ne"
   },
   "source": [
    "## Set Config\n",
    "Mask R-CNN has a load of hyperparameters. Here I am adjusting based on the GPU count in my Google Colab ( 1 GPU )\n",
    "\n"
   ]
  },
  {
   "cell_type": "code",
   "execution_count": 12,
   "metadata": {
    "executionInfo": {
     "elapsed": 1343,
     "status": "ok",
     "timestamp": 1619080150879,
     "user": {
      "displayName": "Satishkumar Moparthi",
      "photoUrl": "https://lh3.googleusercontent.com/a-/AOh14GjUSOPEhegxKhmSJgOTfyqrLlGWk7dHBnuvO3S-gA=s64",
      "userId": "03515051603858730688"
     },
     "user_tz": -330
    },
    "id": "JcoVt-O82WH_"
   },
   "outputs": [],
   "source": [
    "# https://github.com/matterport/Mask_RCNN/blob/master/mrcnn/config.py\n",
    "# Overwarign the existing config file with our requirements\n",
    "class FashionConfig(Config):\n",
    "    NAME = \"Article localization\"  # Override in sub-classes\n",
    "    \n",
    "    # Number of classification classes (including background)\n",
    "    NUM_CLASSES = 46 + 1 # +1 for the background class\n",
    "    \n",
    "    # NUMBER OF GPUs to use. When using only a CPU, this needs to be set to 1.\n",
    "    GPU_COUNT = 1\n",
    "\n",
    "    # Number of images to train with on each GPU. A 12GB GPU can typically\n",
    "    # handle 2 images of 1024x1024px.\n",
    "    # Adjust based on your GPU memory and image sizes. Use the highest\n",
    "    # number that your GPU can handle for best performance.\n",
    "    IMAGES_PER_GPU = 4 # a memory error occurs when IMAGES_PER_GPU is too high , 4 because image size is 512x512\n",
    "    \n",
    "    # Backbone network architecture\n",
    "    # Supported values are: resnet50, resnet101.\n",
    "    BACKBONE = 'resnet50'\n",
    "    \n",
    "    # Image shape\n",
    "    IMAGE_MIN_DIM = 512\n",
    "    IMAGE_MAX_DIM = 512    \n",
    "    IMAGE_RESIZE_MODE = 'none'\n",
    "\n",
    "    # Length of square anchor side in pixels\n",
    "    RPN_ANCHOR_SCALES = (16, 32, 64, 128, 256)\n",
    "    \n",
    "    # Number of training steps per epoch\n",
    "    # This doesn't need to match the size of the training set. Tensorboard\n",
    "    STEPS_PER_EPOCH = 1000\n",
    "\n",
    "    # Number of validation steps to run at the end of every training epoch.\n",
    "    # A bigger number improves accuracy of validation stats, but slows\n",
    "    # down the training.\n",
    "    VALIDATION_STEPS = 200\n",
    "    \n",
    "config = FashionConfig()"
   ]
  },
  {
   "cell_type": "markdown",
   "metadata": {
    "id": "lwlJgz7QvU5M"
   },
   "source": [
    "## Creating custome Dataset\n",
    "\n",
    "https://towardsdatascience.com/mask-rcnn-implementation-on-a-custom-dataset-fd9a878123d4\n",
    "\n",
    "https://github.com/shreyas90999/buy_me_that_look/blob/main/CS2_Module_2.ipynb"
   ]
  },
  {
   "cell_type": "code",
   "execution_count": null,
   "metadata": {
    "id": "nKL0o60evUer"
   },
   "outputs": [],
   "source": [
    "def resize_image(image_path):\n",
    "    image = cv2.imread(image_path)\n",
    "    ## Changing Image from BLUE_Greenn_Red to Red_Green_Blue\n",
    "    image = cv2.cvtColor(image, cv2.COLOR_BGR2RGB)\n",
    "    ## Resizing Image\n",
    "    image = cv2.resize(image, (512, 512), interpolation=cv2.INTER_AREA)  \n",
    "    return image\n",
    "\n",
    "\n",
    "class FashionDataset(utils.Dataset):\n",
    "    # Giving data as per the Maskrcnn git\n",
    "    def __init__(self, fashion_data):\n",
    "        super().__init__(self)\n",
    "        \n",
    "        # Add classes\n",
    "        for i, name in enumerate(label_names):\n",
    "            # self.add_class(\"object\", 3, \"xyz\") #likewise\n",
    "            self.add_class(\"Article localization\", i+1, name)\n",
    "        \n",
    "        # Add images \n",
    "        for i, row in fashion_data.iterrows():\n",
    "            self.add_image(\"Article localization\", image_id=row.name, path=str('/content/train/'+row.name), labels=row['Category'],annotations=row['EncodedPixels'], height=row['Height'], width=row['Width'])\n",
    "\n",
    "    def image_reference(self, image_id):\n",
    "        info = self.image_info[image_id]\n",
    "        return info['path'], [label_names[int(x)] for x in info['labels']]\n",
    "    \n",
    "    def load_image(self, image_id):\n",
    "        return resize_image(self.image_info[image_id]['path'])\n",
    "\n",
    "    def load_mask(self, image_id):\n",
    "        info = self.image_info[image_id]\n",
    "                \n",
    "        mask = np.zeros((512, 512, len(info['annotations'])), dtype=np.uint8)\n",
    "        labels = []\n",
    "        \n",
    "        for m, (annotation, label) in enumerate(zip(info['annotations'], info['labels'])):\n",
    "            sub_mask = np.full(info['height']*info['width'], 0, dtype=np.uint8)\n",
    "            annotation = [int(x) for x in annotation.split(' ')]\n",
    "            \n",
    "            for i, start_pixel in enumerate(annotation[::2]):\n",
    "                sub_mask[start_pixel: start_pixel+annotation[2*i+1]] = 1\n",
    "\n",
    "            sub_mask = sub_mask.reshape((info['height'], info['width']), order='F')\n",
    "            sub_mask = cv2.resize(sub_mask, (512, 512), interpolation=cv2.INTER_NEAREST)\n",
    "            \n",
    "            mask[:, :, m] = sub_mask\n",
    "            labels.append(int(label)+1)\n",
    "            \n",
    "        return mask, np.array(labels)\n",
    "\n",
    "data_s = FashionDataset(image_df)\n",
    "data_s.prepare()\n"
   ]
  },
  {
   "cell_type": "code",
   "execution_count": null,
   "metadata": {
    "id": "qpKFYvJFwyO5"
   },
   "outputs": [],
   "source": [
    "# Spilting Train and test data\n",
    "FOLD = 0\n",
    "from sklearn.model_selection import StratifiedKFold, KFold\n",
    "data_fold = KFold(n_splits=5, random_state=0, shuffle=True)\n",
    "data_splits = data_fold.split(image_df) \n",
    "\n",
    "def get_fold():    \n",
    "    for i, (train, validation) in enumerate(data_splits):\n",
    "        if i == FOLD:\n",
    "            return image_df.iloc[train], image_df.iloc[validation]\n",
    "        \n",
    "train, valid = get_fold()\n",
    "\n",
    "train_data = FashionDataset(train)\n",
    "train_data.prepare()\n",
    "\n",
    "valid_data = FashionDataset(valid)\n",
    "valid_data.prepare()"
   ]
  },
  {
   "cell_type": "code",
   "execution_count": null,
   "metadata": {
    "id": "TlXWqXmq3OXZ"
   },
   "outputs": [],
   "source": [
    "maskrcnn_model = modellib.MaskRCNN(mode='training', config=config, model_dir='content')\n",
    "maskrcnn_model.set_log_dir(model_path='/content/Mask_RCNN/mrcnn')\n",
    "maskrcnn_model.load_weights(COCO_WEIGHTS_PATH, by_name=True, exclude=['mrcnn_class_logits', 'mrcnn_bbox_fc', 'mrcnn_bbox', 'mrcnn_mask'])"
   ]
  },
  {
   "cell_type": "code",
   "execution_count": null,
   "metadata": {
    "id": "OH61quhG3vyM"
   },
   "outputs": [],
   "source": [
    "from imgaug import augmenters as iaa\n",
    "augmentation = iaa.Sequential([\n",
    "    iaa.Fliplr(0.5) # only horizontal flip here\n",
    "])"
   ]
  },
  {
   "cell_type": "code",
   "execution_count": null,
   "metadata": {
    "id": "k4Gq6ye331fd"
   },
   "outputs": [],
   "source": [
    "import keras\n",
    "\n",
    "checkpoint = keras.callbacks.ModelCheckpoint('/content/drive/MyDrive/Applied AI Course/Assignments/29. Self Case Study 2/Models/mask_rcnn_fashion_{epoch:04d}-{val_mrcnn_mask_loss:.5f}.h5',save_weights_only=True,verbose=1)\n",
    "maskrcnn_model.train(train_data, valid_data,\n",
    "            learning_rate=1e-4,\n",
    "            epochs=10,\n",
    "            layers='all',\n",
    "            augmentation=augmentation,custom_callbacks=[checkpoint])"
   ]
  },
  {
   "cell_type": "code",
   "execution_count": null,
   "metadata": {
    "colab": {
     "base_uri": "https://localhost:8080/"
    },
    "id": "IYVegmWs6kMf",
    "outputId": "3f12da25-d0d4-46f1-c739-6df4a8940037"
   },
   "outputs": [
    {
     "name": "stdout",
     "output_type": "stream",
     "text": [
      "\n",
      "Starting at epoch 0. LR=0.0001\n",
      "\n",
      "Checkpoint Path: content/fashion20210407T0317/mask_rcnn_fashion_{epoch:04d}.h5\n",
      "Selecting layers to train\n",
      "conv1                  (Conv2D)\n",
      "bn_conv1               (BatchNorm)\n",
      "res2a_branch2a         (Conv2D)\n",
      "bn2a_branch2a          (BatchNorm)\n",
      "res2a_branch2b         (Conv2D)\n",
      "bn2a_branch2b          (BatchNorm)\n",
      "res2a_branch2c         (Conv2D)\n",
      "res2a_branch1          (Conv2D)\n",
      "bn2a_branch2c          (BatchNorm)\n",
      "bn2a_branch1           (BatchNorm)\n",
      "res2b_branch2a         (Conv2D)\n",
      "bn2b_branch2a          (BatchNorm)\n",
      "res2b_branch2b         (Conv2D)\n",
      "bn2b_branch2b          (BatchNorm)\n",
      "res2b_branch2c         (Conv2D)\n",
      "bn2b_branch2c          (BatchNorm)\n",
      "res2c_branch2a         (Conv2D)\n",
      "bn2c_branch2a          (BatchNorm)\n",
      "res2c_branch2b         (Conv2D)\n",
      "bn2c_branch2b          (BatchNorm)\n",
      "res2c_branch2c         (Conv2D)\n",
      "bn2c_branch2c          (BatchNorm)\n",
      "res3a_branch2a         (Conv2D)\n",
      "bn3a_branch2a          (BatchNorm)\n",
      "res3a_branch2b         (Conv2D)\n",
      "bn3a_branch2b          (BatchNorm)\n",
      "res3a_branch2c         (Conv2D)\n",
      "res3a_branch1          (Conv2D)\n",
      "bn3a_branch2c          (BatchNorm)\n",
      "bn3a_branch1           (BatchNorm)\n",
      "res3b_branch2a         (Conv2D)\n",
      "bn3b_branch2a          (BatchNorm)\n",
      "res3b_branch2b         (Conv2D)\n",
      "bn3b_branch2b          (BatchNorm)\n",
      "res3b_branch2c         (Conv2D)\n",
      "bn3b_branch2c          (BatchNorm)\n",
      "res3c_branch2a         (Conv2D)\n",
      "bn3c_branch2a          (BatchNorm)\n",
      "res3c_branch2b         (Conv2D)\n",
      "bn3c_branch2b          (BatchNorm)\n",
      "res3c_branch2c         (Conv2D)\n",
      "bn3c_branch2c          (BatchNorm)\n",
      "res3d_branch2a         (Conv2D)\n",
      "bn3d_branch2a          (BatchNorm)\n",
      "res3d_branch2b         (Conv2D)\n",
      "bn3d_branch2b          (BatchNorm)\n",
      "res3d_branch2c         (Conv2D)\n",
      "bn3d_branch2c          (BatchNorm)\n",
      "res4a_branch2a         (Conv2D)\n",
      "bn4a_branch2a          (BatchNorm)\n",
      "res4a_branch2b         (Conv2D)\n",
      "bn4a_branch2b          (BatchNorm)\n",
      "res4a_branch2c         (Conv2D)\n",
      "res4a_branch1          (Conv2D)\n",
      "bn4a_branch2c          (BatchNorm)\n",
      "bn4a_branch1           (BatchNorm)\n",
      "res4b_branch2a         (Conv2D)\n",
      "bn4b_branch2a          (BatchNorm)\n",
      "res4b_branch2b         (Conv2D)\n",
      "bn4b_branch2b          (BatchNorm)\n",
      "res4b_branch2c         (Conv2D)\n",
      "bn4b_branch2c          (BatchNorm)\n",
      "res4c_branch2a         (Conv2D)\n",
      "bn4c_branch2a          (BatchNorm)\n",
      "res4c_branch2b         (Conv2D)\n",
      "bn4c_branch2b          (BatchNorm)\n",
      "res4c_branch2c         (Conv2D)\n",
      "bn4c_branch2c          (BatchNorm)\n",
      "res4d_branch2a         (Conv2D)\n",
      "bn4d_branch2a          (BatchNorm)\n",
      "res4d_branch2b         (Conv2D)\n",
      "bn4d_branch2b          (BatchNorm)\n",
      "res4d_branch2c         (Conv2D)\n",
      "bn4d_branch2c          (BatchNorm)\n",
      "res4e_branch2a         (Conv2D)\n",
      "bn4e_branch2a          (BatchNorm)\n",
      "res4e_branch2b         (Conv2D)\n",
      "bn4e_branch2b          (BatchNorm)\n",
      "res4e_branch2c         (Conv2D)\n",
      "bn4e_branch2c          (BatchNorm)\n",
      "res4f_branch2a         (Conv2D)\n",
      "bn4f_branch2a          (BatchNorm)\n",
      "res4f_branch2b         (Conv2D)\n",
      "bn4f_branch2b          (BatchNorm)\n",
      "res4f_branch2c         (Conv2D)\n",
      "bn4f_branch2c          (BatchNorm)\n",
      "res5a_branch2a         (Conv2D)\n",
      "bn5a_branch2a          (BatchNorm)\n",
      "res5a_branch2b         (Conv2D)\n",
      "bn5a_branch2b          (BatchNorm)\n",
      "res5a_branch2c         (Conv2D)\n",
      "res5a_branch1          (Conv2D)\n",
      "bn5a_branch2c          (BatchNorm)\n",
      "bn5a_branch1           (BatchNorm)\n",
      "res5b_branch2a         (Conv2D)\n",
      "bn5b_branch2a          (BatchNorm)\n",
      "res5b_branch2b         (Conv2D)\n",
      "bn5b_branch2b          (BatchNorm)\n",
      "res5b_branch2c         (Conv2D)\n",
      "bn5b_branch2c          (BatchNorm)\n",
      "res5c_branch2a         (Conv2D)\n",
      "bn5c_branch2a          (BatchNorm)\n",
      "res5c_branch2b         (Conv2D)\n",
      "bn5c_branch2b          (BatchNorm)\n",
      "res5c_branch2c         (Conv2D)\n",
      "bn5c_branch2c          (BatchNorm)\n",
      "fpn_c5p5               (Conv2D)\n",
      "fpn_c4p4               (Conv2D)\n",
      "fpn_c3p3               (Conv2D)\n",
      "fpn_c2p2               (Conv2D)\n",
      "fpn_p5                 (Conv2D)\n",
      "fpn_p2                 (Conv2D)\n",
      "fpn_p3                 (Conv2D)\n",
      "fpn_p4                 (Conv2D)\n",
      "In model:  rpn_model\n",
      "    rpn_conv_shared        (Conv2D)\n",
      "    rpn_class_raw          (Conv2D)\n",
      "    rpn_bbox_pred          (Conv2D)\n",
      "mrcnn_mask_conv1       (TimeDistributed)\n",
      "mrcnn_mask_bn1         (TimeDistributed)\n",
      "mrcnn_mask_conv2       (TimeDistributed)\n",
      "mrcnn_mask_bn2         (TimeDistributed)\n",
      "mrcnn_class_conv1      (TimeDistributed)\n",
      "mrcnn_class_bn1        (TimeDistributed)\n",
      "mrcnn_mask_conv3       (TimeDistributed)\n",
      "mrcnn_mask_bn3         (TimeDistributed)\n",
      "mrcnn_class_conv2      (TimeDistributed)\n",
      "mrcnn_class_bn2        (TimeDistributed)\n",
      "mrcnn_mask_conv4       (TimeDistributed)\n",
      "mrcnn_mask_bn4         (TimeDistributed)\n",
      "mrcnn_bbox_fc          (TimeDistributed)\n",
      "mrcnn_mask_deconv      (TimeDistributed)\n",
      "mrcnn_class_logits     (TimeDistributed)\n",
      "mrcnn_mask             (TimeDistributed)\n"
     ]
    },
    {
     "name": "stderr",
     "output_type": "stream",
     "text": [
      "/usr/local/lib/python3.7/dist-packages/tensorflow_core/python/framework/indexed_slices.py:424: UserWarning: Converting sparse IndexedSlices to a dense Tensor of unknown shape. This may consume a large amount of memory.\n",
      "  \"Converting sparse IndexedSlices to a dense Tensor of unknown shape. \"\n",
      "/usr/local/lib/python3.7/dist-packages/tensorflow_core/python/framework/indexed_slices.py:424: UserWarning: Converting sparse IndexedSlices to a dense Tensor of unknown shape. This may consume a large amount of memory.\n",
      "  \"Converting sparse IndexedSlices to a dense Tensor of unknown shape. \"\n",
      "/usr/local/lib/python3.7/dist-packages/tensorflow_core/python/framework/indexed_slices.py:424: UserWarning: Converting sparse IndexedSlices to a dense Tensor of unknown shape. This may consume a large amount of memory.\n",
      "  \"Converting sparse IndexedSlices to a dense Tensor of unknown shape. \"\n",
      "/usr/local/lib/python3.7/dist-packages/keras/engine/training.py:2087: UserWarning: Using a generator with `use_multiprocessing=True` and multiple workers may duplicate your data. Please consider using the`keras.utils.Sequence class.\n",
      "  UserWarning('Using a generator with `use_multiprocessing=True`'\n"
     ]
    },
    {
     "name": "stdout",
     "output_type": "stream",
     "text": [
      "Epoch 1/10\n",
      " 999/1000 [============================>.] - ETA: 2s - loss: 2.2040 - rpn_class_loss: 0.0741 - rpn_bbox_loss: 0.9583 - mrcnn_class_loss: 0.4237 - mrcnn_bbox_loss: 0.3532 - mrcnn_mask_loss: 0.3947"
     ]
    },
    {
     "name": "stderr",
     "output_type": "stream",
     "text": [
      "/usr/local/lib/python3.7/dist-packages/keras/engine/training.py:2330: UserWarning: Using a generator with `use_multiprocessing=True` and multiple workers may duplicate your data. Please consider using the`keras.utils.Sequence class.\n",
      "  UserWarning('Using a generator with `use_multiprocessing=True`'\n"
     ]
    },
    {
     "name": "stdout",
     "output_type": "stream",
     "text": [
      "\b\b\b\b\b\b\b\b\b\b\b\b\b\b\b\b\b\b\b\b\b\b\b\b\b\b\b\b\b\b\b\b\b\b\b\b\b\b\b\b\b\b\b\b\b\b\b\b\b\b\b\b\b\b\b\b\b\b\b\b\b\b\b\b\b\b\b\b\b\b\b\b\b\b\b\b\b\b\b\b\b\b\b\b\b\b\b\b\b\b\b\b\b\b\b\b\b\b\b\b\b\b\b\b\b\b\b\b\b\b\b\b\b\b\b\b\b\b\b\b\b\b\b\b\b\b\b\b\b\b\b\b\b\b\b\b\b\b\b\b\b\b\b\b\b\b\b\b\b\b\b\b\b\b\b\b\b\b\b\b\b\b\b\b\b\b\b\b\b\b\b\b\b\b\b\b\b\b\b\b\b\b\b\b\b\b\b\b\b\b\b\b\b\b\b\r",
      "1000/1000 [==============================] - 3486s 3s/step - loss: 2.2036 - rpn_class_loss: 0.0740 - rpn_bbox_loss: 0.9581 - mrcnn_class_loss: 0.4237 - mrcnn_bbox_loss: 0.3532 - mrcnn_mask_loss: 0.3947 - val_loss: 2.0781 - val_rpn_class_loss: 0.0690 - val_rpn_bbox_loss: 0.8829 - val_mrcnn_class_loss: 0.4060 - val_mrcnn_bbox_loss: 0.3446 - val_mrcnn_mask_loss: 0.3755\n",
      "WARNING:tensorflow:From /usr/local/lib/python3.7/dist-packages/keras/callbacks.py:860: The name tf.Summary is deprecated. Please use tf.compat.v1.Summary instead.\n",
      "\n",
      "\n",
      "Epoch 00001: saving model to /content/drive/MyDrive/Applied AI Course/Assignments/29. Self Case Study 2/Models/mask_rcnn_fashion_day_2_0001-0.37551.h5\n",
      "Epoch 2/10\n",
      "1000/1000 [==============================] - 3376s 3s/step - loss: 2.1042 - rpn_class_loss: 0.0695 - rpn_bbox_loss: 0.9136 - mrcnn_class_loss: 0.4067 - mrcnn_bbox_loss: 0.3384 - mrcnn_mask_loss: 0.3760 - val_loss: 2.1006 - val_rpn_class_loss: 0.0735 - val_rpn_bbox_loss: 0.9303 - val_mrcnn_class_loss: 0.3923 - val_mrcnn_bbox_loss: 0.3360 - val_mrcnn_mask_loss: 0.3686\n",
      "\n",
      "Epoch 00002: saving model to /content/drive/MyDrive/Applied AI Course/Assignments/29. Self Case Study 2/Models/mask_rcnn_fashion_day_2_0002-0.36857.h5\n",
      "Epoch 3/10\n",
      " 638/1000 [==================>...........] - ETA: 15:16 - loss: 2.0694 - rpn_class_loss: 0.0679 - rpn_bbox_loss: 0.8954 - mrcnn_class_loss: 0.4073 - mrcnn_bbox_loss: 0.3313 - mrcnn_mask_loss: 0.3675"
     ]
    }
   ],
   "source": [
    "maskrcnn_model = modellib.MaskRCNN(mode='training', config=config, model_dir='content')\n",
    "maskrcnn_model.set_log_dir(model_path='/content/Mask_RCNN/mrcnn')\n",
    "maskrcnn_model.load_weights('/content/drive/MyDrive/Applied AI Course/Assignments/29. Self Case Study 2/Models/mask_rcnn_fashion_0004-0.40588.h5', by_name=True)\n",
    "\n",
    "checkpoint = keras.callbacks.ModelCheckpoint('/content/drive/MyDrive/Applied AI Course/Assignments/29. Self Case Study 2/Models/mask_rcnn_fashion_day_2_{epoch:04d}-{val_mrcnn_mask_loss:.5f}.h5',save_weights_only=True,verbose=1)\n",
    "maskrcnn_model.train(train_data, valid_data,\n",
    "            learning_rate=1e-4,\n",
    "            epochs=10,\n",
    "            layers='all',\n",
    "            augmentation=augmentation,custom_callbacks=[checkpoint])"
   ]
  },
  {
   "cell_type": "code",
   "execution_count": null,
   "metadata": {
    "colab": {
     "base_uri": "https://localhost:8080/"
    },
    "id": "-jCMjWghCyrz",
    "outputId": "1aebbf70-2667-4fdc-a914-ca41f8450d71"
   },
   "outputs": [
    {
     "name": "stdout",
     "output_type": "stream",
     "text": [
      "\n",
      "Starting at epoch 0. LR=0.0001\n",
      "\n",
      "Checkpoint Path: content/fashion20210407T0638/mask_rcnn_fashion_{epoch:04d}.h5\n",
      "Selecting layers to train\n",
      "conv1                  (Conv2D)\n",
      "bn_conv1               (BatchNorm)\n",
      "res2a_branch2a         (Conv2D)\n",
      "bn2a_branch2a          (BatchNorm)\n",
      "res2a_branch2b         (Conv2D)\n",
      "bn2a_branch2b          (BatchNorm)\n",
      "res2a_branch2c         (Conv2D)\n",
      "res2a_branch1          (Conv2D)\n",
      "bn2a_branch2c          (BatchNorm)\n",
      "bn2a_branch1           (BatchNorm)\n",
      "res2b_branch2a         (Conv2D)\n",
      "bn2b_branch2a          (BatchNorm)\n",
      "res2b_branch2b         (Conv2D)\n",
      "bn2b_branch2b          (BatchNorm)\n",
      "res2b_branch2c         (Conv2D)\n",
      "bn2b_branch2c          (BatchNorm)\n",
      "res2c_branch2a         (Conv2D)\n",
      "bn2c_branch2a          (BatchNorm)\n",
      "res2c_branch2b         (Conv2D)\n",
      "bn2c_branch2b          (BatchNorm)\n",
      "res2c_branch2c         (Conv2D)\n",
      "bn2c_branch2c          (BatchNorm)\n",
      "res3a_branch2a         (Conv2D)\n",
      "bn3a_branch2a          (BatchNorm)\n",
      "res3a_branch2b         (Conv2D)\n",
      "bn3a_branch2b          (BatchNorm)\n",
      "res3a_branch2c         (Conv2D)\n",
      "res3a_branch1          (Conv2D)\n",
      "bn3a_branch2c          (BatchNorm)\n",
      "bn3a_branch1           (BatchNorm)\n",
      "res3b_branch2a         (Conv2D)\n",
      "bn3b_branch2a          (BatchNorm)\n",
      "res3b_branch2b         (Conv2D)\n",
      "bn3b_branch2b          (BatchNorm)\n",
      "res3b_branch2c         (Conv2D)\n",
      "bn3b_branch2c          (BatchNorm)\n",
      "res3c_branch2a         (Conv2D)\n",
      "bn3c_branch2a          (BatchNorm)\n",
      "res3c_branch2b         (Conv2D)\n",
      "bn3c_branch2b          (BatchNorm)\n",
      "res3c_branch2c         (Conv2D)\n",
      "bn3c_branch2c          (BatchNorm)\n",
      "res3d_branch2a         (Conv2D)\n",
      "bn3d_branch2a          (BatchNorm)\n",
      "res3d_branch2b         (Conv2D)\n",
      "bn3d_branch2b          (BatchNorm)\n",
      "res3d_branch2c         (Conv2D)\n",
      "bn3d_branch2c          (BatchNorm)\n",
      "res4a_branch2a         (Conv2D)\n",
      "bn4a_branch2a          (BatchNorm)\n",
      "res4a_branch2b         (Conv2D)\n",
      "bn4a_branch2b          (BatchNorm)\n",
      "res4a_branch2c         (Conv2D)\n",
      "res4a_branch1          (Conv2D)\n",
      "bn4a_branch2c          (BatchNorm)\n",
      "bn4a_branch1           (BatchNorm)\n",
      "res4b_branch2a         (Conv2D)\n",
      "bn4b_branch2a          (BatchNorm)\n",
      "res4b_branch2b         (Conv2D)\n",
      "bn4b_branch2b          (BatchNorm)\n",
      "res4b_branch2c         (Conv2D)\n",
      "bn4b_branch2c          (BatchNorm)\n",
      "res4c_branch2a         (Conv2D)\n",
      "bn4c_branch2a          (BatchNorm)\n",
      "res4c_branch2b         (Conv2D)\n",
      "bn4c_branch2b          (BatchNorm)\n",
      "res4c_branch2c         (Conv2D)\n",
      "bn4c_branch2c          (BatchNorm)\n",
      "res4d_branch2a         (Conv2D)\n",
      "bn4d_branch2a          (BatchNorm)\n",
      "res4d_branch2b         (Conv2D)\n",
      "bn4d_branch2b          (BatchNorm)\n",
      "res4d_branch2c         (Conv2D)\n",
      "bn4d_branch2c          (BatchNorm)\n",
      "res4e_branch2a         (Conv2D)\n",
      "bn4e_branch2a          (BatchNorm)\n",
      "res4e_branch2b         (Conv2D)\n",
      "bn4e_branch2b          (BatchNorm)\n",
      "res4e_branch2c         (Conv2D)\n",
      "bn4e_branch2c          (BatchNorm)\n",
      "res4f_branch2a         (Conv2D)\n",
      "bn4f_branch2a          (BatchNorm)\n",
      "res4f_branch2b         (Conv2D)\n",
      "bn4f_branch2b          (BatchNorm)\n",
      "res4f_branch2c         (Conv2D)\n",
      "bn4f_branch2c          (BatchNorm)\n",
      "res5a_branch2a         (Conv2D)\n",
      "bn5a_branch2a          (BatchNorm)\n",
      "res5a_branch2b         (Conv2D)\n",
      "bn5a_branch2b          (BatchNorm)\n",
      "res5a_branch2c         (Conv2D)\n",
      "res5a_branch1          (Conv2D)\n",
      "bn5a_branch2c          (BatchNorm)\n",
      "bn5a_branch1           (BatchNorm)\n",
      "res5b_branch2a         (Conv2D)\n",
      "bn5b_branch2a          (BatchNorm)\n",
      "res5b_branch2b         (Conv2D)\n",
      "bn5b_branch2b          (BatchNorm)\n",
      "res5b_branch2c         (Conv2D)\n",
      "bn5b_branch2c          (BatchNorm)\n",
      "res5c_branch2a         (Conv2D)\n",
      "bn5c_branch2a          (BatchNorm)\n",
      "res5c_branch2b         (Conv2D)\n",
      "bn5c_branch2b          (BatchNorm)\n",
      "res5c_branch2c         (Conv2D)\n",
      "bn5c_branch2c          (BatchNorm)\n",
      "fpn_c5p5               (Conv2D)\n",
      "fpn_c4p4               (Conv2D)\n",
      "fpn_c3p3               (Conv2D)\n",
      "fpn_c2p2               (Conv2D)\n",
      "fpn_p5                 (Conv2D)\n",
      "fpn_p2                 (Conv2D)\n",
      "fpn_p3                 (Conv2D)\n",
      "fpn_p4                 (Conv2D)\n",
      "In model:  rpn_model\n",
      "    rpn_conv_shared        (Conv2D)\n",
      "    rpn_class_raw          (Conv2D)\n",
      "    rpn_bbox_pred          (Conv2D)\n",
      "mrcnn_mask_conv1       (TimeDistributed)\n",
      "mrcnn_mask_bn1         (TimeDistributed)\n",
      "mrcnn_mask_conv2       (TimeDistributed)\n",
      "mrcnn_mask_bn2         (TimeDistributed)\n",
      "mrcnn_class_conv1      (TimeDistributed)\n",
      "mrcnn_class_bn1        (TimeDistributed)\n",
      "mrcnn_mask_conv3       (TimeDistributed)\n",
      "mrcnn_mask_bn3         (TimeDistributed)\n",
      "mrcnn_class_conv2      (TimeDistributed)\n",
      "mrcnn_class_bn2        (TimeDistributed)\n",
      "mrcnn_mask_conv4       (TimeDistributed)\n",
      "mrcnn_mask_bn4         (TimeDistributed)\n",
      "mrcnn_bbox_fc          (TimeDistributed)\n",
      "mrcnn_mask_deconv      (TimeDistributed)\n",
      "mrcnn_class_logits     (TimeDistributed)\n",
      "mrcnn_mask             (TimeDistributed)\n",
      "WARNING:tensorflow:From /usr/local/lib/python3.7/dist-packages/keras/optimizers.py:757: The name tf.train.Optimizer is deprecated. Please use tf.compat.v1.train.Optimizer instead.\n",
      "\n"
     ]
    },
    {
     "name": "stderr",
     "output_type": "stream",
     "text": [
      "/usr/local/lib/python3.7/dist-packages/tensorflow_core/python/framework/indexed_slices.py:424: UserWarning: Converting sparse IndexedSlices to a dense Tensor of unknown shape. This may consume a large amount of memory.\n",
      "  \"Converting sparse IndexedSlices to a dense Tensor of unknown shape. \"\n",
      "/usr/local/lib/python3.7/dist-packages/tensorflow_core/python/framework/indexed_slices.py:424: UserWarning: Converting sparse IndexedSlices to a dense Tensor of unknown shape. This may consume a large amount of memory.\n",
      "  \"Converting sparse IndexedSlices to a dense Tensor of unknown shape. \"\n",
      "/usr/local/lib/python3.7/dist-packages/tensorflow_core/python/framework/indexed_slices.py:424: UserWarning: Converting sparse IndexedSlices to a dense Tensor of unknown shape. This may consume a large amount of memory.\n",
      "  \"Converting sparse IndexedSlices to a dense Tensor of unknown shape. \"\n"
     ]
    },
    {
     "name": "stdout",
     "output_type": "stream",
     "text": [
      "WARNING:tensorflow:From /usr/local/lib/python3.7/dist-packages/keras/backend/tensorflow_backend.py:976: The name tf.assign_add is deprecated. Please use tf.compat.v1.assign_add instead.\n",
      "\n",
      "WARNING:tensorflow:From /usr/local/lib/python3.7/dist-packages/keras/backend/tensorflow_backend.py:963: The name tf.assign is deprecated. Please use tf.compat.v1.assign instead.\n",
      "\n"
     ]
    },
    {
     "name": "stderr",
     "output_type": "stream",
     "text": [
      "/usr/local/lib/python3.7/dist-packages/keras/engine/training.py:2087: UserWarning: Using a generator with `use_multiprocessing=True` and multiple workers may duplicate your data. Please consider using the`keras.utils.Sequence class.\n",
      "  UserWarning('Using a generator with `use_multiprocessing=True`'\n"
     ]
    },
    {
     "name": "stdout",
     "output_type": "stream",
     "text": [
      "WARNING:tensorflow:From /usr/local/lib/python3.7/dist-packages/keras/callbacks.py:774: The name tf.summary.merge_all is deprecated. Please use tf.compat.v1.summary.merge_all instead.\n",
      "\n",
      "WARNING:tensorflow:From /usr/local/lib/python3.7/dist-packages/keras/callbacks.py:777: The name tf.summary.FileWriter is deprecated. Please use tf.compat.v1.summary.FileWriter instead.\n",
      "\n",
      "Epoch 1/7\n",
      " 999/1000 [============================>.] - ETA: 2s - loss: 2.0714 - rpn_class_loss: 0.0684 - rpn_bbox_loss: 0.9070 - mrcnn_class_loss: 0.4016 - mrcnn_bbox_loss: 0.3281 - mrcnn_mask_loss: 0.3663"
     ]
    },
    {
     "name": "stderr",
     "output_type": "stream",
     "text": [
      "/usr/local/lib/python3.7/dist-packages/keras/engine/training.py:2330: UserWarning: Using a generator with `use_multiprocessing=True` and multiple workers may duplicate your data. Please consider using the`keras.utils.Sequence class.\n",
      "  UserWarning('Using a generator with `use_multiprocessing=True`'\n"
     ]
    },
    {
     "name": "stdout",
     "output_type": "stream",
     "text": [
      "1000/1000 [==============================] - 3770s 4s/step - loss: 2.0709 - rpn_class_loss: 0.0684 - rpn_bbox_loss: 0.9067 - mrcnn_class_loss: 0.4015 - mrcnn_bbox_loss: 0.3281 - mrcnn_mask_loss: 0.3663 - val_loss: 2.1141 - val_rpn_class_loss: 0.0708 - val_rpn_bbox_loss: 0.9677 - val_mrcnn_class_loss: 0.3971 - val_mrcnn_bbox_loss: 0.3202 - val_mrcnn_mask_loss: 0.3582\n",
      "WARNING:tensorflow:From /usr/local/lib/python3.7/dist-packages/keras/callbacks.py:860: The name tf.Summary is deprecated. Please use tf.compat.v1.Summary instead.\n",
      "\n",
      "\n",
      "Epoch 00001: saving model to /content/drive/MyDrive/Applied AI Course/Assignments/29. Self Case Study 2/Models/mask_rcnn_fashion_day_2_1_0001-0.35817.h5\n",
      "Epoch 2/7\n",
      "1000/1000 [==============================] - 3357s 3s/step - loss: 2.0443 - rpn_class_loss: 0.0673 - rpn_bbox_loss: 0.9145 - mrcnn_class_loss: 0.3878 - mrcnn_bbox_loss: 0.3203 - mrcnn_mask_loss: 0.3543 - val_loss: 2.0896 - val_rpn_class_loss: 0.0694 - val_rpn_bbox_loss: 0.9898 - val_mrcnn_class_loss: 0.3647 - val_mrcnn_bbox_loss: 0.3185 - val_mrcnn_mask_loss: 0.3472\n",
      "\n",
      "Epoch 00002: saving model to /content/drive/MyDrive/Applied AI Course/Assignments/29. Self Case Study 2/Models/mask_rcnn_fashion_day_2_1_0002-0.34716.h5\n",
      "Epoch 3/7\n",
      "1000/1000 [==============================] - 3477s 3s/step - loss: 2.0435 - rpn_class_loss: 0.0673 - rpn_bbox_loss: 0.9113 - mrcnn_class_loss: 0.3954 - mrcnn_bbox_loss: 0.3172 - mrcnn_mask_loss: 0.3522 - val_loss: 2.0431 - val_rpn_class_loss: 0.0700 - val_rpn_bbox_loss: 0.9296 - val_mrcnn_class_loss: 0.3920 - val_mrcnn_bbox_loss: 0.3097 - val_mrcnn_mask_loss: 0.3418\n",
      "\n",
      "Epoch 00003: saving model to /content/drive/MyDrive/Applied AI Course/Assignments/29. Self Case Study 2/Models/mask_rcnn_fashion_day_2_1_0003-0.34180.h5\n",
      "Epoch 4/7\n",
      " 803/1000 [=======================>......] - ETA: 8:57 - loss: 1.9634 - rpn_class_loss: 0.0655 - rpn_bbox_loss: 0.8659 - mrcnn_class_loss: 0.3818 - mrcnn_bbox_loss: 0.3067 - mrcnn_mask_loss: 0.3435"
     ]
    }
   ],
   "source": [
    "maskrcnn_model = modellib.MaskRCNN(mode='training', config=config, model_dir='content')\n",
    "maskrcnn_model.set_log_dir(model_path='/content/Mask_RCNN/mrcnn')\n",
    "maskrcnn_model.load_weights('/content/drive/MyDrive/Applied AI Course/Assignments/29. Self Case Study 2/Models/mask_rcnn_fashion_day_2_0002-0.36857.h5', by_name=True)\n",
    "\n",
    "checkpoint = keras.callbacks.ModelCheckpoint('/content/drive/MyDrive/Applied AI Course/Assignments/29. Self Case Study 2/Models/mask_rcnn_fashion_day_2_1_{epoch:04d}-{val_mrcnn_mask_loss:.5f}.h5',save_weights_only=True,verbose=1)\n",
    "maskrcnn_model.train(train_data, valid_data,\n",
    "            learning_rate=1e-4,\n",
    "            epochs=7,\n",
    "            layers='all',\n",
    "            augmentation=augmentation,custom_callbacks=[checkpoint])"
   ]
  },
  {
   "cell_type": "code",
   "execution_count": null,
   "metadata": {
    "colab": {
     "base_uri": "https://localhost:8080/"
    },
    "executionInfo": {
     "elapsed": 13701811,
     "status": "ok",
     "timestamp": 1617805688899,
     "user": {
      "displayName": "Satishkumar Moparthi",
      "photoUrl": "https://lh3.googleusercontent.com/a-/AOh14GjUSOPEhegxKhmSJgOTfyqrLlGWk7dHBnuvO3S-gA=s64",
      "userId": "03515051603858730688"
     },
     "user_tz": -330
    },
    "id": "PXbvJT1w6PVW",
    "outputId": "4ed4c788-d5cc-4af0-e2c4-caab15a66a11"
   },
   "outputs": [
    {
     "name": "stdout",
     "output_type": "stream",
     "text": [
      "\n",
      "Starting at epoch 0. LR=0.0001\n",
      "\n",
      "Checkpoint Path: content/fashion20210407T1039/mask_rcnn_fashion_{epoch:04d}.h5\n",
      "Selecting layers to train\n",
      "conv1                  (Conv2D)\n",
      "bn_conv1               (BatchNorm)\n",
      "res2a_branch2a         (Conv2D)\n",
      "bn2a_branch2a          (BatchNorm)\n",
      "res2a_branch2b         (Conv2D)\n",
      "bn2a_branch2b          (BatchNorm)\n",
      "res2a_branch2c         (Conv2D)\n",
      "res2a_branch1          (Conv2D)\n",
      "bn2a_branch2c          (BatchNorm)\n",
      "bn2a_branch1           (BatchNorm)\n",
      "res2b_branch2a         (Conv2D)\n",
      "bn2b_branch2a          (BatchNorm)\n",
      "res2b_branch2b         (Conv2D)\n",
      "bn2b_branch2b          (BatchNorm)\n",
      "res2b_branch2c         (Conv2D)\n",
      "bn2b_branch2c          (BatchNorm)\n",
      "res2c_branch2a         (Conv2D)\n",
      "bn2c_branch2a          (BatchNorm)\n",
      "res2c_branch2b         (Conv2D)\n",
      "bn2c_branch2b          (BatchNorm)\n",
      "res2c_branch2c         (Conv2D)\n",
      "bn2c_branch2c          (BatchNorm)\n",
      "res3a_branch2a         (Conv2D)\n",
      "bn3a_branch2a          (BatchNorm)\n",
      "res3a_branch2b         (Conv2D)\n",
      "bn3a_branch2b          (BatchNorm)\n",
      "res3a_branch2c         (Conv2D)\n",
      "res3a_branch1          (Conv2D)\n",
      "bn3a_branch2c          (BatchNorm)\n",
      "bn3a_branch1           (BatchNorm)\n",
      "res3b_branch2a         (Conv2D)\n",
      "bn3b_branch2a          (BatchNorm)\n",
      "res3b_branch2b         (Conv2D)\n",
      "bn3b_branch2b          (BatchNorm)\n",
      "res3b_branch2c         (Conv2D)\n",
      "bn3b_branch2c          (BatchNorm)\n",
      "res3c_branch2a         (Conv2D)\n",
      "bn3c_branch2a          (BatchNorm)\n",
      "res3c_branch2b         (Conv2D)\n",
      "bn3c_branch2b          (BatchNorm)\n",
      "res3c_branch2c         (Conv2D)\n",
      "bn3c_branch2c          (BatchNorm)\n",
      "res3d_branch2a         (Conv2D)\n",
      "bn3d_branch2a          (BatchNorm)\n",
      "res3d_branch2b         (Conv2D)\n",
      "bn3d_branch2b          (BatchNorm)\n",
      "res3d_branch2c         (Conv2D)\n",
      "bn3d_branch2c          (BatchNorm)\n",
      "res4a_branch2a         (Conv2D)\n",
      "bn4a_branch2a          (BatchNorm)\n",
      "res4a_branch2b         (Conv2D)\n",
      "bn4a_branch2b          (BatchNorm)\n",
      "res4a_branch2c         (Conv2D)\n",
      "res4a_branch1          (Conv2D)\n",
      "bn4a_branch2c          (BatchNorm)\n",
      "bn4a_branch1           (BatchNorm)\n",
      "res4b_branch2a         (Conv2D)\n",
      "bn4b_branch2a          (BatchNorm)\n",
      "res4b_branch2b         (Conv2D)\n",
      "bn4b_branch2b          (BatchNorm)\n",
      "res4b_branch2c         (Conv2D)\n",
      "bn4b_branch2c          (BatchNorm)\n",
      "res4c_branch2a         (Conv2D)\n",
      "bn4c_branch2a          (BatchNorm)\n",
      "res4c_branch2b         (Conv2D)\n",
      "bn4c_branch2b          (BatchNorm)\n",
      "res4c_branch2c         (Conv2D)\n",
      "bn4c_branch2c          (BatchNorm)\n",
      "res4d_branch2a         (Conv2D)\n",
      "bn4d_branch2a          (BatchNorm)\n",
      "res4d_branch2b         (Conv2D)\n",
      "bn4d_branch2b          (BatchNorm)\n",
      "res4d_branch2c         (Conv2D)\n",
      "bn4d_branch2c          (BatchNorm)\n",
      "res4e_branch2a         (Conv2D)\n",
      "bn4e_branch2a          (BatchNorm)\n",
      "res4e_branch2b         (Conv2D)\n",
      "bn4e_branch2b          (BatchNorm)\n",
      "res4e_branch2c         (Conv2D)\n",
      "bn4e_branch2c          (BatchNorm)\n",
      "res4f_branch2a         (Conv2D)\n",
      "bn4f_branch2a          (BatchNorm)\n",
      "res4f_branch2b         (Conv2D)\n",
      "bn4f_branch2b          (BatchNorm)\n",
      "res4f_branch2c         (Conv2D)\n",
      "bn4f_branch2c          (BatchNorm)\n",
      "res5a_branch2a         (Conv2D)\n",
      "bn5a_branch2a          (BatchNorm)\n",
      "res5a_branch2b         (Conv2D)\n",
      "bn5a_branch2b          (BatchNorm)\n",
      "res5a_branch2c         (Conv2D)\n",
      "res5a_branch1          (Conv2D)\n",
      "bn5a_branch2c          (BatchNorm)\n",
      "bn5a_branch1           (BatchNorm)\n",
      "res5b_branch2a         (Conv2D)\n",
      "bn5b_branch2a          (BatchNorm)\n",
      "res5b_branch2b         (Conv2D)\n",
      "bn5b_branch2b          (BatchNorm)\n",
      "res5b_branch2c         (Conv2D)\n",
      "bn5b_branch2c          (BatchNorm)\n",
      "res5c_branch2a         (Conv2D)\n",
      "bn5c_branch2a          (BatchNorm)\n",
      "res5c_branch2b         (Conv2D)\n",
      "bn5c_branch2b          (BatchNorm)\n",
      "res5c_branch2c         (Conv2D)\n",
      "bn5c_branch2c          (BatchNorm)\n",
      "fpn_c5p5               (Conv2D)\n",
      "fpn_c4p4               (Conv2D)\n",
      "fpn_c3p3               (Conv2D)\n",
      "fpn_c2p2               (Conv2D)\n",
      "fpn_p5                 (Conv2D)\n",
      "fpn_p2                 (Conv2D)\n",
      "fpn_p3                 (Conv2D)\n",
      "fpn_p4                 (Conv2D)\n",
      "In model:  rpn_model\n",
      "    rpn_conv_shared        (Conv2D)\n",
      "    rpn_class_raw          (Conv2D)\n",
      "    rpn_bbox_pred          (Conv2D)\n",
      "mrcnn_mask_conv1       (TimeDistributed)\n",
      "mrcnn_mask_bn1         (TimeDistributed)\n",
      "mrcnn_mask_conv2       (TimeDistributed)\n",
      "mrcnn_mask_bn2         (TimeDistributed)\n",
      "mrcnn_class_conv1      (TimeDistributed)\n",
      "mrcnn_class_bn1        (TimeDistributed)\n",
      "mrcnn_mask_conv3       (TimeDistributed)\n",
      "mrcnn_mask_bn3         (TimeDistributed)\n",
      "mrcnn_class_conv2      (TimeDistributed)\n",
      "mrcnn_class_bn2        (TimeDistributed)\n",
      "mrcnn_mask_conv4       (TimeDistributed)\n",
      "mrcnn_mask_bn4         (TimeDistributed)\n",
      "mrcnn_bbox_fc          (TimeDistributed)\n",
      "mrcnn_mask_deconv      (TimeDistributed)\n",
      "mrcnn_class_logits     (TimeDistributed)\n",
      "mrcnn_mask             (TimeDistributed)\n"
     ]
    },
    {
     "name": "stderr",
     "output_type": "stream",
     "text": [
      "/usr/local/lib/python3.7/dist-packages/tensorflow_core/python/framework/indexed_slices.py:424: UserWarning: Converting sparse IndexedSlices to a dense Tensor of unknown shape. This may consume a large amount of memory.\n",
      "  \"Converting sparse IndexedSlices to a dense Tensor of unknown shape. \"\n",
      "/usr/local/lib/python3.7/dist-packages/tensorflow_core/python/framework/indexed_slices.py:424: UserWarning: Converting sparse IndexedSlices to a dense Tensor of unknown shape. This may consume a large amount of memory.\n",
      "  \"Converting sparse IndexedSlices to a dense Tensor of unknown shape. \"\n",
      "/usr/local/lib/python3.7/dist-packages/tensorflow_core/python/framework/indexed_slices.py:424: UserWarning: Converting sparse IndexedSlices to a dense Tensor of unknown shape. This may consume a large amount of memory.\n",
      "  \"Converting sparse IndexedSlices to a dense Tensor of unknown shape. \"\n",
      "/usr/local/lib/python3.7/dist-packages/keras/engine/training.py:2087: UserWarning: Using a generator with `use_multiprocessing=True` and multiple workers may duplicate your data. Please consider using the`keras.utils.Sequence class.\n",
      "  UserWarning('Using a generator with `use_multiprocessing=True`'\n"
     ]
    },
    {
     "name": "stdout",
     "output_type": "stream",
     "text": [
      "Epoch 1/4\n",
      " 999/1000 [============================>.] - ETA: 2s - loss: 1.9591 - rpn_class_loss: 0.0629 - rpn_bbox_loss: 0.8659 - mrcnn_class_loss: 0.3819 - mrcnn_bbox_loss: 0.3067 - mrcnn_mask_loss: 0.3418"
     ]
    },
    {
     "name": "stderr",
     "output_type": "stream",
     "text": [
      "/usr/local/lib/python3.7/dist-packages/keras/engine/training.py:2330: UserWarning: Using a generator with `use_multiprocessing=True` and multiple workers may duplicate your data. Please consider using the`keras.utils.Sequence class.\n",
      "  UserWarning('Using a generator with `use_multiprocessing=True`'\n"
     ]
    },
    {
     "name": "stdout",
     "output_type": "stream",
     "text": [
      "\b\b\b\b\b\b\b\b\b\b\b\b\b\b\b\b\b\b\b\b\b\b\b\b\b\b\b\b\b\b\b\b\b\b\b\b\b\b\b\b\b\b\b\b\b\b\b\b\b\b\b\b\b\b\b\b\b\b\b\b\b\b\b\b\b\b\b\b\b\b\b\b\b\b\b\b\b\b\b\b\b\b\b\b\b\b\b\b\b\b\b\b\b\b\b\b\b\b\b\b\b\b\b\b\b\b\b\b\b\b\b\b\b\b\b\b\b\b\b\b\b\b\b\b\b\b\b\b\b\b\b\b\b\b\b\b\b\b\b\b\b\b\b\b\b\b\b\b\b\b\b\b\b\b\b\b\b\b\b\b\b\b\b\b\b\b\b\b\b\b\b\b\b\b\b\b\b\b\b\b\b\b\b\b\b\b\b\b\b\b\b\b\b\b\b\r",
      "1000/1000 [==============================] - 3561s 4s/step - loss: 1.9588 - rpn_class_loss: 0.0629 - rpn_bbox_loss: 0.8654 - mrcnn_class_loss: 0.3820 - mrcnn_bbox_loss: 0.3067 - mrcnn_mask_loss: 0.3418 - val_loss: 1.9717 - val_rpn_class_loss: 0.0684 - val_rpn_bbox_loss: 0.8952 - val_mrcnn_class_loss: 0.3637 - val_mrcnn_bbox_loss: 0.3059 - val_mrcnn_mask_loss: 0.3386\n",
      "WARNING:tensorflow:From /usr/local/lib/python3.7/dist-packages/keras/callbacks.py:860: The name tf.Summary is deprecated. Please use tf.compat.v1.Summary instead.\n",
      "\n",
      "\n",
      "Epoch 00001: saving model to /content/drive/MyDrive/Applied AI Course/Assignments/29. Self Case Study 2/Models/mask_rcnn_fashion_day_2_2_0001-0.33859.h5\n",
      "Epoch 2/4\n",
      "1000/1000 [==============================] - 3206s 3s/step - loss: 1.9699 - rpn_class_loss: 0.0642 - rpn_bbox_loss: 0.8859 - mrcnn_class_loss: 0.3788 - mrcnn_bbox_loss: 0.3024 - mrcnn_mask_loss: 0.3387 - val_loss: 1.9602 - val_rpn_class_loss: 0.0644 - val_rpn_bbox_loss: 0.8935 - val_mrcnn_class_loss: 0.3633 - val_mrcnn_bbox_loss: 0.3021 - val_mrcnn_mask_loss: 0.3369\n",
      "\n",
      "Epoch 00002: saving model to /content/drive/MyDrive/Applied AI Course/Assignments/29. Self Case Study 2/Models/mask_rcnn_fashion_day_2_2_0002-0.33691.h5\n",
      "Epoch 3/4\n",
      "1000/1000 [==============================] - 3335s 3s/step - loss: 1.9224 - rpn_class_loss: 0.0619 - rpn_bbox_loss: 0.8641 - mrcnn_class_loss: 0.3651 - mrcnn_bbox_loss: 0.2976 - mrcnn_mask_loss: 0.3336 - val_loss: 1.9179 - val_rpn_class_loss: 0.0617 - val_rpn_bbox_loss: 0.8716 - val_mrcnn_class_loss: 0.3550 - val_mrcnn_bbox_loss: 0.2983 - val_mrcnn_mask_loss: 0.3313\n",
      "\n",
      "Epoch 00003: saving model to /content/drive/MyDrive/Applied AI Course/Assignments/29. Self Case Study 2/Models/mask_rcnn_fashion_day_2_2_0003-0.33129.h5\n",
      "Epoch 4/4\n",
      "1000/1000 [==============================] - 3465s 3s/step - loss: 1.9610 - rpn_class_loss: 0.0619 - rpn_bbox_loss: 0.9024 - mrcnn_class_loss: 0.3690 - mrcnn_bbox_loss: 0.2977 - mrcnn_mask_loss: 0.3300 - val_loss: 1.8629 - val_rpn_class_loss: 0.0607 - val_rpn_bbox_loss: 0.8406 - val_mrcnn_class_loss: 0.3460 - val_mrcnn_bbox_loss: 0.2905 - val_mrcnn_mask_loss: 0.3252\n",
      "\n",
      "Epoch 00004: saving model to /content/drive/MyDrive/Applied AI Course/Assignments/29. Self Case Study 2/Models/mask_rcnn_fashion_day_2_2_0004-0.32516.h5\n"
     ]
    }
   ],
   "source": [
    "maskrcnn_model = modellib.MaskRCNN(mode='training', config=config, model_dir='content')\n",
    "maskrcnn_model.set_log_dir(model_path='/content/Mask_RCNN/mrcnn')\n",
    "maskrcnn_model.load_weights('/content/drive/MyDrive/Applied AI Course/Assignments/29. Self Case Study 2/Models/mask_rcnn_fashion_day_2_1_0003-0.34180.h5', by_name=True)\n",
    "\n",
    "checkpoint = keras.callbacks.ModelCheckpoint('/content/drive/MyDrive/Applied AI Course/Assignments/29. Self Case Study 2/Models/mask_rcnn_fashion_day_2_2_{epoch:04d}-{val_mrcnn_mask_loss:.5f}.h5',save_weights_only=True,verbose=1)\n",
    "maskrcnn_model.train(train_data, valid_data,\n",
    "            learning_rate=1e-4,\n",
    "            epochs=4,\n",
    "            layers='all',\n",
    "            augmentation=augmentation,custom_callbacks=[checkpoint])"
   ]
  },
  {
   "cell_type": "markdown",
   "metadata": {
    "id": "I9E-IsC10sqU"
   },
   "source": [
    "As there is power cuts in my village area I run the code multiple times with different weights. So, final plot is just for 4 epochs but the output of the maskrcnn model very good. \n",
    "\n",
    "Model neither overfit nor under. "
   ]
  },
  {
   "cell_type": "code",
   "execution_count": null,
   "metadata": {
    "colab": {
     "base_uri": "https://localhost:8080/",
     "height": 390
    },
    "executionInfo": {
     "elapsed": 2280,
     "status": "ok",
     "timestamp": 1617805746756,
     "user": {
      "displayName": "Satishkumar Moparthi",
      "photoUrl": "https://lh3.googleusercontent.com/a-/AOh14GjUSOPEhegxKhmSJgOTfyqrLlGWk7dHBnuvO3S-gA=s64",
      "userId": "03515051603858730688"
     },
     "user_tz": -330
    },
    "id": "HgBPQwsmVsrB",
    "outputId": "6f50126c-cec0-497f-cd11-db6fea07fa79"
   },
   "outputs": [
    {
     "data": {
      "image/png": "[encoded data removed]",
      "text/plain": [
       "<Figure size 1296x432 with 3 Axes>"
      ]
     },
     "metadata": {
      "needs_background": "light",
      "tags": []
     },
     "output_type": "display_data"
    }
   ],
   "source": [
    "epochs = range(4)\n",
    "plt.figure(figsize=(18, 6))\n",
    "\n",
    "plt.subplot(131)\n",
    "plt.plot(epochs, history['loss'], label=\"train loss\")\n",
    "plt.plot(epochs, history['val_loss'], label=\"valid loss\")\n",
    "plt.title(\"Loss\")\n",
    "plt.legend()\n",
    "plt.subplot(132)\n",
    "plt.plot(epochs, history['mrcnn_class_loss'], label=\"train class loss\")\n",
    "plt.plot(epochs, history['val_mrcnn_class_loss'], label=\"valid class loss\")\n",
    "plt.title('mrcnn_class_loss')\n",
    "plt.legend()\n",
    "plt.subplot(133)\n",
    "plt.plot(epochs, history['mrcnn_mask_loss'], label=\"train mask loss\")\n",
    "plt.plot(epochs, history['val_mrcnn_mask_loss'], label=\"valid mask loss\")\n",
    "plt.legend()\n",
    "\n",
    "plt.show()"
   ]
  },
  {
   "cell_type": "code",
   "execution_count": 17,
   "metadata": {
    "colab": {
     "base_uri": "https://localhost:8080/"
    },
    "executionInfo": {
     "elapsed": 27142,
     "status": "ok",
     "timestamp": 1619081904815,
     "user": {
      "displayName": "Satishkumar Moparthi",
      "photoUrl": "https://lh3.googleusercontent.com/a-/AOh14GjUSOPEhegxKhmSJgOTfyqrLlGWk7dHBnuvO3S-gA=s64",
      "userId": "03515051603858730688"
     },
     "user_tz": -330
    },
    "id": "u-tAVWONzA1-",
    "outputId": "fc936600-46d0-41df-9155-02eb8d03acce"
   },
   "outputs": [
    {
     "name": "stdout",
     "output_type": "stream",
     "text": [
      "Mounted at /content/drive\n"
     ]
    }
   ],
   "source": [
    "from google.colab import drive\n",
    "\n",
    "drive.mount('/content/drive')"
   ]
  },
  {
   "cell_type": "code",
   "execution_count": null,
   "metadata": {
    "id": "y7keBzqWWKPI"
   },
   "outputs": [],
   "source": [
    "## As we are validating one image at one, Again modifying the config file. \n",
    "class InferenceConfig(FashionConfig):\n",
    "    GPU_COUNT = 1\n",
    "    IMAGES_PER_GPU = 1\n",
    "\n",
    "inference_config = InferenceConfig()\n",
    "\n",
    "maskrcnn_model = modellib.MaskRCNN(mode='inference', \n",
    "                          config=inference_config,\n",
    "                          model_dir='/content/')\n",
    "\n",
    "model_path ='/content/drive/MyDrive/Applied AI Course/Assignments/29. Self Case Study 2/mask_rcnn_fashion_day_2_2_0004-0.32516.h5'\n",
    "\n",
    "\n",
    "maskrcnn_model.load_weights(model_path, by_name=True)#load trained model"
   ]
  },
  {
   "cell_type": "code",
   "execution_count": null,
   "metadata": {
    "colab": {
     "base_uri": "https://localhost:8080/",
     "height": 1000,
     "output_embedded_package_id": "1_dqpFXP-5lNQjjJzquEFiOqWWaMIqtDz"
    },
    "executionInfo": {
     "elapsed": 51768,
     "status": "ok",
     "timestamp": 1617805983714,
     "user": {
      "displayName": "Satishkumar Moparthi",
      "photoUrl": "https://lh3.googleusercontent.com/a-/AOh14GjUSOPEhegxKhmSJgOTfyqrLlGWk7dHBnuvO3S-gA=s64",
      "userId": "03515051603858730688"
     },
     "user_tz": -330
    },
    "id": "Fi1JTAQcWLUG",
    "outputId": "bc352922-8082-4b33-fae6-e41450668fb3"
   },
   "outputs": [
    {
     "data": {
      "text/plain": [
       "Output hidden; open in https://colab.research.google.com to view."
      ]
     },
     "metadata": {},
     "output_type": "display_data"
    }
   ],
   "source": [
    "for image in image_list_:\n",
    "    img = cv2.imread(image)\n",
    "    img = cv2.cvtColor(img, cv2.COLOR_BGR2RGB)\n",
    "    \n",
    "    result = maskrcnn_model.detect([resize_image(image_path)])\n",
    "    roi = result[0]\n",
    "    \n",
    "    if roi['masks'].size > 0:\n",
    "        masks = np.zeros((img.shape[0], img.shape[1], roi['masks'].shape[-1]), dtype=np.uint8)\n",
    "        for m in range(roi['masks'].shape[-1]):\n",
    "            masks[:, :, m] = cv2.resize(roi['masks'][:, :, m].astype('uint8'), \n",
    "                                        (img.shape[1], img.shape[0]), interpolation=cv2.INTER_NEAREST)\n",
    "        \n",
    "        y_scale = img.shape[0]/512\n",
    "        x_scale = img.shape[1]/512\n",
    "        rois = (roi['rois'] * [y_scale, x_scale, y_scale, x_scale]).astype(int)\n",
    "        \n",
    "    else:\n",
    "        masks, rois = roi['masks'], roi['rois']\n",
    "        \n",
    "    visualize.display_instances(img, rois, masks, roi['class_ids'], \n",
    "                                ['bg']+label_names, roi['scores'],\n",
    "                                title=image, figsize=(12, 12))\n",
    "    # Img , region of interest, mask , roi class, roi label name, confidence score of label , title and dispaly figure size"
   ]
  }
 ],
 "metadata": {
  "accelerator": "GPU",
  "colab": {
   "collapsed_sections": [],
   "name": "2_maskrcnn_localization.ipynb",
   "provenance": []
  },
  "kernelspec": {
   "display_name": "Python 3",
   "language": "python",
   "name": "python3"
  },
  "language_info": {
   "codemirror_mode": {
    "name": "ipython",
    "version": 3
   },
   "file_extension": ".py",
   "mimetype": "text/x-python",
   "name": "python",
   "nbconvert_exporter": "python",
   "pygments_lexer": "ipython3",
   "version": "3.8.3"
  }
 },
 "nbformat": 4,
 "nbformat_minor": 1
}
